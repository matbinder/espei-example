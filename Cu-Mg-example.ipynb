{
 "cells": [
  {
   "cell_type": "markdown",
   "metadata": {},
   "source": [
    "# Requirement"
   ]
  },
  {
   "cell_type": "markdown",
   "metadata": {},
   "source": [
    "Add the following lines to your: `~/.config/dask/distributed.yaml`:"
   ]
  },
  {
   "cell_type": "raw",
   "metadata": {},
   "source": [
    "distributed:\n",
    "  version: 2\n",
    "  scheduler:\n",
    "    work-stealing: False"
   ]
  },
  {
   "cell_type": "markdown",
   "metadata": {},
   "source": [
    "# First-principles phase diagram"
   ]
  },
  {
   "cell_type": "code",
   "execution_count": 1,
   "metadata": {
    "ExecuteTime": {
     "end_time": "2019-11-17T18:16:47.682341Z",
     "start_time": "2019-11-17T18:16:44.445648Z"
    }
   },
   "outputs": [],
   "source": [
    "from pycalphad import Database, variables as v\n",
    "from espei.datasets import load_datasets, recursive_glob\n",
    "from espei.plot import multiplot\n",
    "import matplotlib.pyplot as plt\n",
    "import os\n",
    "import subprocess"
   ]
  },
  {
   "cell_type": "markdown",
   "metadata": {},
   "source": [
    "# write config file"
   ]
  },
  {
   "cell_type": "code",
   "execution_count": 2,
   "metadata": {
    "ExecuteTime": {
     "end_time": "2019-11-17T18:16:47.687694Z",
     "start_time": "2019-11-17T18:16:47.684466Z"
    }
   },
   "outputs": [],
   "source": [
    "input_file = \"\"\"\\\n",
    "system:\n",
    "  phase_models: Cu-Mg-input.json\n",
    "  datasets: input-data\n",
    "generate_parameters:\n",
    "  excess_model: linear\n",
    "  ref_state: SGTE91\n",
    "output:\n",
    "  output_db: cu-mg_dft.tdb\n",
    "\"\"\"\n",
    "with open(os.path.join('ESPEI-datasets', 'CU-MG', 'espei-in.yaml'), 'w') as f:\n",
    "    f.writelines(input_file)"
   ]
  },
  {
   "cell_type": "markdown",
   "metadata": {},
   "source": [
    "# run espei"
   ]
  },
  {
   "cell_type": "code",
   "execution_count": 3,
   "metadata": {
    "ExecuteTime": {
     "end_time": "2019-11-17T18:16:54.399367Z",
     "start_time": "2019-11-17T18:16:47.689454Z"
    }
   },
   "outputs": [
    {
     "data": {
      "text/plain": [
       "\"Single phase datasets are present, but there are no specified `excluded_model_contributions` keys present. 'idmix' exclusion will be added automatically for backwards compatibility, but this will go away in ESPEI v0.8. If you want ideal mixing contributions to be excluded, see the documentation for building datasets: http://espei.org/en/latest/input_data.html\\n\""
      ]
     },
     "execution_count": 3,
     "metadata": {},
     "output_type": "execute_result"
    }
   ],
   "source": [
    "subprocess.check_output(['espei', '--input', 'espei-in.yaml'], cwd=os.path.join('ESPEI-datasets', 'CU-MG'), universal_newlines=True)"
   ]
  },
  {
   "cell_type": "markdown",
   "metadata": {},
   "source": [
    "# load the experimental and DFT datasets"
   ]
  },
  {
   "cell_type": "code",
   "execution_count": 4,
   "metadata": {
    "ExecuteTime": {
     "end_time": "2019-11-17T18:16:54.406030Z",
     "start_time": "2019-11-17T18:16:54.401678Z"
    }
   },
   "outputs": [],
   "source": [
    "datasets = load_datasets(recursive_glob(os.path.join('ESPEI-datasets', 'CU-MG', 'input-data'), os.path.join('ESPEI-datasets', 'CU-MG', '*.json')))"
   ]
  },
  {
   "cell_type": "markdown",
   "metadata": {},
   "source": [
    "# set up the pycalphad phase diagram calculation"
   ]
  },
  {
   "cell_type": "code",
   "execution_count": 5,
   "metadata": {
    "ExecuteTime": {
     "end_time": "2019-11-17T18:16:54.523886Z",
     "start_time": "2019-11-17T18:16:54.407437Z"
    }
   },
   "outputs": [],
   "source": [
    "dbf = Database(os.path.join('ESPEI-datasets', 'CU-MG', 'cu-mg_dft.tdb'))\n",
    "comps = ['CU', 'MG', 'VA']\n",
    "phases = ['LIQUID', 'FCC_A1', 'HCP_A3', 'CUMG2', 'LAVES_C15']\n",
    "conds = {v.P: 101325, v.T: (300, 1500, 10), v.X('MG'): (0, 1, 0.01)}"
   ]
  },
  {
   "cell_type": "markdown",
   "metadata": {},
   "source": [
    "# plot the phase diagram and data"
   ]
  },
  {
   "cell_type": "code",
   "execution_count": 6,
   "metadata": {
    "ExecuteTime": {
     "end_time": "2019-11-17T18:38:59.176241Z",
     "start_time": "2019-11-17T18:16:54.525841Z"
    }
   },
   "outputs": [
    {
     "data": {
      "image/png": "[encoded data removed]",
      "text/plain": [
       "<Figure size 432x288 with 1 Axes>"
      ]
     },
     "metadata": {
      "needs_background": "light"
     },
     "output_type": "display_data"
    }
   ],
   "source": [
    "multiplot(dbf, comps, phases, conds, datasets)\n",
    "plt.savefig('cu-mg_dft_phase_diagram.png')"
   ]
  },
  {
   "cell_type": "markdown",
   "metadata": {},
   "source": [
    "# Monte Carlo"
   ]
  },
  {
   "cell_type": "code",
   "execution_count": 7,
   "metadata": {
    "ExecuteTime": {
     "end_time": "2019-11-17T18:38:59.182052Z",
     "start_time": "2019-11-17T18:38:59.178301Z"
    }
   },
   "outputs": [],
   "source": [
    "input_file = \"\"\"\\\n",
    "system:\n",
    "  phase_models: Cu-Mg-input.json\n",
    "  datasets: input-data\n",
    "mcmc:\n",
    "  iterations: 1000\n",
    "  input_db: cu-mg_dft.tdb\n",
    "  cores: 8\n",
    "output:\n",
    "  output_db: cu-mg_mcmc.tdb\n",
    "\"\"\"\n",
    "with open(os.path.join('ESPEI-datasets', 'CU-MG', 'espei-mc-in.yaml'), 'w') as f:\n",
    "    f.writelines(input_file)"
   ]
  },
  {
   "cell_type": "code",
   "execution_count": null,
   "metadata": {
    "ExecuteTime": {
     "start_time": "2019-11-17T18:16:44.433Z"
    }
   },
   "outputs": [],
   "source": [
    "subprocess.check_output(['espei', '--input', 'espei-mc-in.yaml'], cwd=os.path.join('ESPEI-datasets', 'CU-MG'), universal_newlines=True)"
   ]
  },
  {
   "cell_type": "code",
   "execution_count": null,
   "metadata": {
    "ExecuteTime": {
     "start_time": "2019-11-17T18:16:44.434Z"
    }
   },
   "outputs": [],
   "source": [
    "dbf = Database('cu-mg_mcmc.tdb')\n",
    "comps = ['CU', 'MG', 'VA']\n",
    "phases = ['LIQUID', 'FCC_A1', 'HCP_A3', 'CUMG2', 'LAVES_C15']\n",
    "conds = {v.P: 101325, v.T: (300, 1500, 10), v.X('MG'): (0, 1, 0.01)}"
   ]
  },
  {
   "cell_type": "code",
   "execution_count": null,
   "metadata": {
    "ExecuteTime": {
     "start_time": "2019-11-17T18:16:44.436Z"
    }
   },
   "outputs": [],
   "source": [
    "multiplot(dbf, comps, phases, conds, datasets)\n",
    "plt.savefig('cu-mg_mcmc_phase_diagram.png')"
   ]
  },
  {
   "cell_type": "code",
   "execution_count": null,
   "metadata": {},
   "outputs": [],
   "source": []
  }
 ],
 "metadata": {
  "kernelspec": {
   "display_name": "Python 3",
   "language": "python",
   "name": "python3"
  },
  "language_info": {
   "codemirror_mode": {
    "name": "ipython",
    "version": 3
   },
   "file_extension": ".py",
   "mimetype": "text/x-python",
   "name": "python",
   "nbconvert_exporter": "python",
   "pygments_lexer": "ipython3",
   "version": "3.7.3"
  },
  "toc": {
   "base_numbering": 1,
   "nav_menu": {},
   "number_sections": true,
   "sideBar": true,
   "skip_h1_title": false,
   "title_cell": "Table of Contents",
   "title_sidebar": "Contents",
   "toc_cell": false,
   "toc_position": {},
   "toc_section_display": true,
   "toc_window_display": false
  }
 },
 "nbformat": 4,
 "nbformat_minor": 2
}
